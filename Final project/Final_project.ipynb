{
  "cells": [
    {
      "cell_type": "code",
      "execution_count": 1,
      "metadata": {
        "colab": {
          "base_uri": "https://localhost:8080/"
        },
        "id": "FRiUePKJQLFG",
        "outputId": "d90fc09c-2b3c-42d7-f813-fb271c76e587"
      },
      "outputs": [
        {
          "name": "stdout",
          "output_type": "stream",
          "text": [
            "Successful imports\n"
          ]
        }
      ],
      "source": [
        "import numpy as np\n",
        "import pandas as pd\n",
        "import torch\n",
        "import torch.nn as nn\n",
        "from google.colab import drive\n",
        "import os\n",
        "from os import listdir\n",
        "\n",
        "print('Successful imports')"
      ]
    },
    {
      "cell_type": "code",
      "execution_count": 2,
      "metadata": {
        "colab": {
          "base_uri": "https://localhost:8080/"
        },
        "id": "lyEhtwjEQYe8",
        "outputId": "c38cf029-5cfd-451a-d3b8-500a67bd8156"
      },
      "outputs": [
        {
          "name": "stdout",
          "output_type": "stream",
          "text": [
            "Drive already mounted at /content/gdrive; to attempt to forcibly remount, call drive.mount(\"/content/gdrive\", force_remount=True).\n"
          ]
        }
      ],
      "source": [
        "drive.mount('/content/gdrive')"
      ]
    },
    {
      "cell_type": "code",
      "execution_count": 3,
      "metadata": {
        "colab": {
          "base_uri": "https://localhost:8080/"
        },
        "id": "eUbISxv7QzhB",
        "outputId": "39bdbaae-b3e8-4fa7-b2ff-483594cc4f9b"
      },
      "outputs": [
        {
          "name": "stdout",
          "output_type": "stream",
          "text": [
            "/content/gdrive/MyDrive/Machine Learning in healthcare/Final project\n"
          ]
        }
      ],
      "source": [
        "%cd '/content/gdrive/MyDrive/Machine Learning in healthcare/Final project'"
      ]
    },
    {
      "cell_type": "markdown",
      "metadata": {
        "id": "9gOz9JOP6Yqd"
      },
      "source": [
        " ## IDEAS\n",
        "\n",
        " CLUSTERING - GMM\n",
        "\n",
        " DIMENSIONALITY REDUCTION - Umap + plot to observe data separation in latent space\n",
        "\n",
        " Study pairwise mutual information + HSIC + correlations\n",
        "\n",
        " Association rules, observe what usually goes together A PRIORI\n",
        "\n",
        " Graph analysis on graph version of latent space and run algorithms for strongly connected components. Something that accounts for intra-class noise and difference between other classes (or clusters)\n",
        "\n"
      ]
    },
    {
      "cell_type": "markdown",
      "metadata": {
        "id": "VM7sxJzu8FTn"
      },
      "source": [
        "## Feature selection"
      ]
    },
    {
      "cell_type": "code",
      "execution_count": 7,
      "metadata": {
        "id": "9s-MuAx9RCXz"
      },
      "outputs": [],
      "source": [
        "data = pd.read_csv('Eureca_Adapted.csv', low_memory=False)"
      ]
    },
    {
      "cell_type": "code",
      "execution_count": 5,
      "metadata": {
        "id": "DNpdfCko5-sy"
      },
      "outputs": [],
      "source": [
        "all = data.columns\n",
        "cols = []"
      ]
    },
    {
      "cell_type": "code",
      "execution_count": 6,
      "metadata": {
        "id": "812x_GayEYhP"
      },
      "outputs": [],
      "source": [
        "# series of interesting information,\n",
        "mixture = ['type', 'suicide','EST_CIV', 'children', 'ideation_of_suicide', 'desire_of_death', 'Planification_of_suicide', 'tm', 'tm2',\n",
        "        'tabacco_act', 'niv_edu','his_fam_suicide_behavior', 'his_fam_suicide', 'his_fam_suicide_attempt',\n",
        "        'desire_of_death', 'Planification_of_suicide', 'dd_depre', 'dd_bipolar', 'dd_sz', 'dd_psychotic']"
      ]
    },
    {
      "cell_type": "code",
      "execution_count": 102,
      "metadata": {
        "id": "AvdVO0iE59-S"
      },
      "outputs": [],
      "source": [
        "# BDHI and BIS scales\n",
        "BDHIS = [col for col in all if (\"BDHI\" in col)]\n",
        "BIS = [col for col in all if (\"BIS\" in col)]\n",
        "\n"
      ]
    },
    {
      "cell_type": "code",
      "execution_count": 103,
      "metadata": {
        "id": "kvt70sqo6QHC"
      },
      "outputs": [],
      "source": [
        "# polymorphisms and other data are in the last 30 variables\n",
        "extra = list(data.columns[-30:])\n",
        "for col in mixture +  BDHIS +  BIS + extra:\n",
        "  cols.append(col)\n"
      ]
    },
    {
      "cell_type": "code",
      "execution_count": 107,
      "metadata": {
        "colab": {
          "base_uri": "https://localhost:8080/"
        },
        "id": "d2ogmNB1GUYJ",
        "outputId": "1dff1620-56f2-45a7-cf83-ce40524bbef2"
      },
      "outputs": [
        {
          "name": "stdout",
          "output_type": "stream",
          "text": [
            "Original data dimension: 604\n",
            "Current subset dimension: 170\n"
          ]
        }
      ],
      "source": [
        "print(f\"Original data dimension: {len(all)}\")\n",
        "print(f\"Current subset dimension: {len(cols)}\")\n"
      ]
    },
    {
      "cell_type": "markdown",
      "metadata": {
        "id": "Xkavl2zy8-51"
      },
      "source": [
        "We have removed 434 dimensions however we want to work with more or less 50, in order to reduce further our dimensionality we are gonna use the mutual information score of pairs of features.\n",
        "\n",
        "Mutual Information (MI) is a measure of the statistical dependence or information shared between two random variables. It quantifies the amount of information obtained about one variable through the observation of another variable. In the context of feature selection, mutual information is often used to assess the relationship between features.\n",
        "For discrete random variables X and Y, the mutual information (MI) is calculated using the following formula:\n",
        "\n",
        "$$ I(X;Y) = \\sum_{x \\in X} \\sum_{y \\in Y} P(x, y) \\log\\left(\\frac{P(x, y)}{P(x)P(y)}\\right) $$\n",
        "\n",
        "Here:\n",
        "- $ I(X;Y) $ is the mutual information between X and Y.\n",
        "- $P(x, y)$ is the joint probability mass function of X and Y.\n",
        "- $P(x)$ and $P(y)$ are the marginal probability mass functions of X and Y, respectively.\n",
        "\n",
        "The score values between $0$ and $1$ and the closer it is to 1, the stronger the relationship between the variables\n",
        "\n"
      ]
    },
    {
      "cell_type": "markdown",
      "metadata": {
        "id": "h_NtFQ6v_cSW"
      },
      "source": [
        "BIS (Behavioural Inhibition systems) scales are psychological instruments designed to measure an individual's sensitivity to punishment and threat. The BIS scales typically include items related to anxiety, caution, and avoidance in the face of punishment or uncertain situations. Higher scores on these scales indicate greater sensitivity to potential negative outcomes. Our dataset contains 34 versions of it, plus three particular cases for impulsivity score, and planification score"
      ]
    },
    {
      "cell_type": "code",
      "execution_count": 71,
      "metadata": {
        "id": "nR6Vh7SNApyH"
      },
      "outputs": [],
      "source": [
        "from sklearn.metrics import mutual_info_score\n",
        "import pandas as pd\n",
        "\n",
        "def filterMU(data, referenceColumn, threshold=0.1):\n",
        "    \"\"\"\n",
        "    Filter columns based on mutual information scores with respect to a reference column.\n",
        "\n",
        "    Parameters:\n",
        "    - data: DataFrame\n",
        "        The input DataFrame.\n",
        "    - referenceColumn: str\n",
        "        The column name that will be used as the reference.\n",
        "    - threshold: float, optional (default=0.1)\n",
        "        The threshold for mutual information score. Columns with scores below this threshold will be filtered out.\n",
        "\n",
        "    Returns:\n",
        "    - list\n",
        "        A list of column names that have mutual information scores above the threshold.\n",
        "    \"\"\"\n",
        "    miScores = {}\n",
        "    for col in data.columns:\n",
        "        if col != referenceColumn:\n",
        "            miScore = mutual_info_score(data[referenceColumn], data[col])\n",
        "            if miScore < threshold:\n",
        "                miScores[col] = miScore\n",
        "\n",
        "    selectedColumns = list(miScores.keys())\n",
        "    return selectedColumns"
      ]
    },
    {
      "cell_type": "code",
      "execution_count": 76,
      "metadata": {
        "id": "6tPrkl3xAOUM"
      },
      "outputs": [],
      "source": [
        "# thresholded mutual information scores for BIS34, redefined BIS,\n",
        "reBIS = filterMU(data[BIS], 'BIS34', .4)\n",
        "reBIS.extend(BIS[34:])"
      ]
    },
    {
      "cell_type": "markdown",
      "metadata": {
        "id": "t_-yPeBWC6TG"
      },
      "source": [
        "This same reasoning is applied for the BDHI scale, for which we have 83"
      ]
    },
    {
      "cell_type": "code",
      "execution_count": 91,
      "metadata": {
        "id": "9xLBQr2XC-sK"
      },
      "outputs": [],
      "source": [
        "# for .4 filters out all  BDHIS, for .5 none, filter out from BDHIX, keeping BDHI specifics\n",
        "reBDHIS = filterMU(data[BDHIS[:75]], 'BDHI75', .445)\n"
      ]
    },
    {
      "cell_type": "code",
      "execution_count": 108,
      "metadata": {
        "id": "hGvjzJpdEOJW"
      },
      "outputs": [],
      "source": [
        "reducedFeatures = mixture + reBIS + reBDHIS + BDHIS[76:] + extra\n"
      ]
    },
    {
      "cell_type": "markdown",
      "metadata": {
        "id": "FzBmJgmlBaAj"
      },
      "source": [
        "The same reasoning applies to other scales present in the data."
      ]
    },
    {
      "cell_type": "code",
      "execution_count": 110,
      "metadata": {
        "id": "_Z4zof4sCsKY"
      },
      "outputs": [],
      "source": [
        "subset = data[reducedFeatures]\n",
        "subset.to_csv('Eureca2.0.csv', index=False)"
      ]
    },
    {
      "cell_type": "code",
      "execution_count": null,
      "metadata": {
        "id": "m_dh8eysRIpH"
      },
      "outputs": [],
      "source": [
        "data.head()"
      ]
    },
    {
      "cell_type": "code",
      "execution_count": null,
      "metadata": {
        "id": "owHSoiuv-xRD"
      },
      "outputs": [],
      "source": [
        "data[BIS]"
      ]
    },
    {
      "cell_type": "markdown",
      "metadata": {
        "id": "PcO5j45LRS97"
      },
      "source": [
        "## Exploratory Data analysis: Understanding of our data"
      ]
    }
  ],
  "metadata": {
    "colab": {
      "provenance": []
    },
    "kernelspec": {
      "display_name": "Python 3",
      "name": "python3"
    },
    "language_info": {
      "name": "python"
    }
  },
  "nbformat": 4,
  "nbformat_minor": 0
}
