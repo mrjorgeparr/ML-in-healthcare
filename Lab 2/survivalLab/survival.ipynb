{
 "cells": [
  {
   "cell_type": "markdown",
   "metadata": {},
   "source": [
    "# Survival analysis lab\n",
    "\n",
    "\n",
    "Jorge Parreño Hernández - 100429982\n",
    "\n",
    "Riccardo Conforto Galli\n",
    "\n",
    "Filippo Nardi\n",
    "\n"
   ]
  },
  {
   "cell_type": "markdown",
   "metadata": {},
   "source": [
    "#### Instructions\n",
    "\n",
    "\n",
    "\n",
    "Do some exploratory analysis to design the patient's features to be used. What features are missing, which do not seem to correlate with the survival time, and what groups of features are jointly correlated.\n",
    "\n",
    "Given the set of features, run some clustering algorithms to separate the patients into groups. You can use Kmeans, DBScan, or any other. Clustering can be done over the input feature or a reduced space using PCA or a VAE.\n",
    "\n",
    "Compute the survival function for each group using Kaplan-Meier and Cox Regression. Analyze the differences between both methods and the survival differences between groups. In terms of interpretability, recall that Cox provides a feature importance.\n",
    "\n",
    "Summarize everything in a one-page report with a link to your code (use Google Drive or Github).\n",
    "\n",
    "You can work individually or in groups of up to three people. This lab counts up to 1.25 points in the overall grade.\n",
    "The deadline is 15th December.\n",
    "\n",
    "Have fun!"
   ]
  },
  {
   "cell_type": "markdown",
   "metadata": {},
   "source": [
    "### Loading data\n",
    "\n",
    "Loading data, checking for missing values"
   ]
  },
  {
   "cell_type": "code",
   "execution_count": null,
   "metadata": {},
   "outputs": [],
   "source": [
    "! pip install -r requirements.txt"
   ]
  },
  {
   "cell_type": "code",
   "execution_count": null,
   "metadata": {},
   "outputs": [
    {
     "name": "stdout",
     "output_type": "stream",
     "text": [
      "Requirement already satisfied: ucimlrepo in ./venv/lib/python3.10/site-packages (0.0.3)\n"
     ]
    }
   ],
   "source": [
    "! pip install ucimlrepo"
   ]
  },
  {
   "cell_type": "code",
   "execution_count": null,
   "metadata": {},
   "outputs": [
    {
     "name": "stdout",
     "output_type": "stream",
     "text": [
      "{'uci_id': 565, 'name': 'Bone marrow transplant: children', 'repository_url': 'https://archive.ics.uci.edu/dataset/565/bone+marrow+transplant+children', 'data_url': 'https://archive.ics.uci.edu/static/public/565/data.csv', 'abstract': 'The data set describes pediatric patients with several hematologic diseases, who were subject to the unmanipulated allogeneic unrelated donor hematopoietic stem cell transplantation.', 'area': 'Health and Medicine', 'tasks': ['Classification', 'Regression'], 'characteristics': ['Multivariate'], 'num_instances': 187, 'num_features': 36, 'feature_types': ['Integer', 'Real'], 'demographics': ['Gender', 'Age'], 'target_col': ['survival_status'], 'index_col': None, 'has_missing_values': 'yes', 'missing_values_symbol': 'NaN', 'year_of_dataset_creation': 2020, 'last_updated': 'Fri Nov 03 2023', 'dataset_doi': '10.24432/C5NP6Z', 'creators': ['Marek Sikora', 'Łukasz Wróbel', 'Adam Gudyś'], 'intro_paper': {'title': 'GuideR: a guided separate-and-conquer rule learning in classification, regression, and survival settings', 'authors': 'M. Sikora, Lukasz Wróbel, Adam Gudyś', 'published_in': 'Knowledge-Based Systems', 'year': 2018, 'url': 'https://arxiv.org/abs/1806.01579', 'doi': None}, 'additional_info': {'summary': \"The data set describes pediatric patients with several hematologic diseases: malignant disorders (i.a. acute lymphoblastic leukemia, acute myelogenous leukemia, chronic myelogenous leukemia, myelodysplastic syndrome) and nonmalignant cases (i.a. severe aplastic anemia, Fanconi anemia, with X-linked adrenoleukodystrophy). All patients were subject to the unmanipulated allogeneic unrelated donor hematopoietic stem cell transplantation. \\r\\n \\r\\nThe motivation of the study was to identify the most important factors influencing the success or failure of the transplantation procedure. In particular, the aim was to verify the hypothesis that increased dosage of CD34+ cells / kg extends overall survival time without simultaneous occurrence of undesirable events affecting patients' quality of life (KawÅ‚ak et al., 2010).\\r\\n\\r\\nThe data set has been used in our work concerning survival rules (WrÃ³bel et al., 2017) and user-guided rule induction (Sikora et al., 2019). The authors of the research on stem cell transplantation (KawÅ‚ak et al., 2010) who inspired our study also contributed to the set.\", 'purpose': None, 'funded_by': None, 'instances_represent': None, 'recommended_data_splits': None, 'sensitive_data': None, 'preprocessing_description': None, 'variable_info': 'donor_age - Age of the donor at the time of hematopoietic stem cells apheresis\\r\\ndonor_age_below_35 - Is donor age less than 35 (yes, no)\\r\\ndonor_ABO - ABO blood group of the donor of hematopoietic stem cells (0, A, B, AB)\\r\\ndonor_CMV - Presence of cytomegalovirus infection in the donor of hematopoietic stem cells prior to transplantation (present, absent)\\r\\nrecipient_age - Age of the recipient of hematopoietic stem cells at the time of transplantation\\r\\nrecipient_age_below_10 - Is recipient age below 10 (yes, no)\\r\\nrecipient_age_int - Age of the recipient discretized to intervals (0,5], (5, 10], (10, 20]\\r\\nrecipient_gender - Gender of the recipient (female, male)\\r\\nrecipient_body_mass - Body mass of the recipient of hematopoietic stem cells at the time of the transplantation\\r\\nrecipient_ABO - ABO blood group of the recipient of hematopoietic stem cells (0, A, B, AB)\\r\\nrecipient_rh - Presence of the Rh factor on recipientâ€™s red blood cells (plus, minus)\\r\\nrecipient_CMV - Presence of cytomegalovirus infection in the donor of hematopoietic stem cells prior to transplantation (present, absent)\\r\\ndisease - Type of disease (ALL, AML, chronic, nonmalignant, lymphoma)\\r\\ndisease_group - Type of disease (malignant, nonmalignant)\\r\\ngender_match - Compatibility of the donor and recipient according to their gender (female to male, other)\\r\\nABO_match - Compatibility of the donor and the recipient of hematopoietic stem cells according to ABO blood group (matched, mismatched)\\r\\nCMV_status - Serological compatibility of the donor and the recipient of hematopoietic stem cells according to cytomegalovirus infection prior to transplantation (the higher the value, the lower the compatibility)\\r\\nHLA_match - Compatibility of antigens of the main histocompatibility complex of the donor and the recipient of hematopoietic stem cells (10/10, 9/10, 8/10, 7/10)\\r\\nHLA_mismatch - HLA matched or mismatched\\r\\nantigen - In how many antigens there is a difference between the donor and the recipient (0-3)\\r\\nallel - In how many allele there is a difference between the donor and the recipient (0-4)\\r\\nHLA_group_1 - The difference type between the donor and the recipient (HLA matched, one antigen, one allel, DRB1 cell, two allele or allel+antigen, two antigenes+allel, mismatched)\\r\\nrisk_group - Risk group (high, low)\\r\\nstem_cell_source - Source of hematopoietic stem cells (peripheral blood, bone marrow)\\r\\ntx_post_relapse - The second bone marrow transplantation after relapse (yes ,no)\\r\\nCD34_x1e6_per_kg - CD34kgx10d6 - CD34+ cell dose per kg of recipient body weight (10^6/kg)\\r\\nCD3_x1e8_per_kg - CD3+ cell dose per kg of recipient body weight (10^8/kg)\\r\\nCD3_to_CD34_ratio - CD3+ cell to CD34+ cell ratio\\r\\nANC_recovery - Neutrophils recovery defined as neutrophils count >0.5 x 10^9/L (yes, no)\\r\\ntime_to_ANC_recovery - Time in days to neutrophils recovery\\r\\nPLT_recovery - Platelet recovery defined as platelet count >50000/mm3 (yes, no)\\r\\ntime_to_PLT_recovery - Time in days to platelet recovery\\r\\nacute_GvHD_II_III_IV - Development of acute graft versus host disease stage II or III or IV (yes, no)\\r\\nacute_GvHD_III_IV - Development of acute graft versus host disease stage III or IV (yes, no)\\r\\ntime_to_acute_GvHD_III_IV - Time in days to development of acute graft versus host disease stage III or IV\\r\\nextensive_chronic_GvHD - Development of extensive chronic graft versus host disease (yes, no)\\r\\nrelapse - Relapse of the disease (yes, no)\\r\\nsurvival_time - Time of observation (if alive) or time to event (if dead) in days\\r\\nsurvival_status - Survival status (0 - alive, 1 - dead)', 'citation': None}}\n",
      "                    name     role         type demographic  \\\n",
      "0        Recipientgender  Feature       Binary      Gender   \n",
      "1         Stemcellsource  Feature       Binary        None   \n",
      "2               Donorage  Feature      Integer         Age   \n",
      "3             Donorage35  Feature       Binary         Age   \n",
      "4                   IIIV  Feature       Binary        None   \n",
      "5            Gendermatch  Feature       Binary      Gender   \n",
      "6               DonorABO  Feature  Categorical        None   \n",
      "7           RecipientABO  Feature  Categorical        None   \n",
      "8            RecipientRh  Feature       Binary        None   \n",
      "9               ABOmatch  Feature       Binary        None   \n",
      "10             CMVstatus  Feature  Categorical        None   \n",
      "11              DonorCMV  Feature       Binary        None   \n",
      "12          RecipientCMV  Feature       Binary        None   \n",
      "13               Disease  Feature  Categorical        None   \n",
      "14             Riskgroup  Feature       Binary        None   \n",
      "15         Txpostrelapse  Feature       Binary        None   \n",
      "16          Diseasegroup  Feature       Binary        None   \n",
      "17              HLAmatch  Feature  Categorical        None   \n",
      "18           HLAmismatch  Feature       Binary        None   \n",
      "19               Antigen  Feature  Categorical        None   \n",
      "20                Allele  Feature  Categorical        None   \n",
      "21                HLAgrI  Feature  Categorical        None   \n",
      "22          Recipientage  Feature      Integer         Age   \n",
      "23        Recipientage10  Feature       Binary         Age   \n",
      "24       Recipientageint  Feature  Categorical         Age   \n",
      "25               Relapse  Feature       Binary        None   \n",
      "26            aGvHDIIIIV  Feature       Binary        None   \n",
      "27              extcGvHD  Feature       Binary        None   \n",
      "28           CD34kgx10d6  Feature      Integer        None   \n",
      "29              CD3dCD34  Feature      Integer        None   \n",
      "30           CD3dkgx10d8  Feature      Integer        None   \n",
      "31             Rbodymass  Feature      Integer        None   \n",
      "32           ANCrecovery  Feature      Integer        None   \n",
      "33           PLTrecovery  Feature      Integer        None   \n",
      "34  time_to_aGvHD_III_IV  Feature      Integer        None   \n",
      "35         survival_time  Feature      Integer        None   \n",
      "36       survival_status   Target      Integer        None   \n",
      "\n",
      "                                          description    units missing_values  \n",
      "0                                Male - 1, Female - 0     None             no  \n",
      "1   Source of hematopoietic stem cells (Peripheral...     None             no  \n",
      "2   Age of the donor at the time of hematopoietic ...     None             no  \n",
      "3               Donor age <35 - 0, Donor age >=35 - 1     None             no  \n",
      "4   Development of acute graft versus host disease...     None             no  \n",
      "5   Compatibility of the donor and recipient accor...     None             no  \n",
      "6   ABO blood group of the donor of hematopoietic ...     None             no  \n",
      "7   ABO blood group of the recipient of hematopoie...     None            yes  \n",
      "8   Presence of the Rh factor on recipient s red b...     None            yes  \n",
      "9   Compatibility of the donor and the recipient o...     None            yes  \n",
      "10  Serological compatibility of the donor and the...     None            yes  \n",
      "11  resence of cytomegalovirus infection in the do...     None            yes  \n",
      "12  Presence of cytomegalovirus infection in the d...     None            yes  \n",
      "13  Type of disease (ALL,AML,chronic,nonmalignant,...     None             no  \n",
      "14                        High risk - 1, Low risk - 0     None             no  \n",
      "15  The second bone marrow transplantation after r...     None             no  \n",
      "16  Type of disease (malignant - 1, nonmalignant - 0)     None             no  \n",
      "17  Compatibility of antigens of the main histocom...     None             no  \n",
      "18                 HLA matched - 0, HL mismatched - 1     None             no  \n",
      "19  In how many antigens there is difference beetw...     None            yes  \n",
      "20  In how many allele there is difference beetwen...     None            yes  \n",
      "21  The difference type between the donor and the ...     None             no  \n",
      "22  Age of the recipient of hematopoietic stem cel...     None             no  \n",
      "23       Recipient age <10 - 0, Recipient age>=10 - 1     None             no  \n",
      "24  Recipient age in (0,5] - 0, (5, 10] - 1, (10, ...     None             no  \n",
      "25      Reoccurrence of the disease (No - 0, Yes - 1)     None             no  \n",
      "26  Development of acute graft versus host disease...     None             no  \n",
      "27  Development of extensive chronic graft versus ...     None            yes  \n",
      "28    CD34+ cell dose per kg of recipient body weight  10^6/kg             no  \n",
      "29                      CD3+ cell to CD34+ cell ratio     None            yes  \n",
      "30     CD3+ cell dose per kg of recipient body weight  10^8/kg            yes  \n",
      "31  Body mass of the recipient of hematopoietic st...     None            yes  \n",
      "32  Time to neutrophils recovery defined as neutro...     None             no  \n",
      "33  Time to platelet recovery defined as platelet ...     None             no  \n",
      "34  Time to development of acute graft versus host...     None             no  \n",
      "35  Time of observation (if alive) or time to even...     None             no  \n",
      "36              Survival status (0 - alive, 1 - dead)     None             no  \n"
     ]
    }
   ],
   "source": [
    "from ucimlrepo import fetch_ucirepo \n",
    "import pandas as pd \n",
    "# fetch dataset \n",
    "bone_marrow_transplant_children = fetch_ucirepo(id=565) \n",
    "  \n",
    "# data (as pandas dataframes) \n",
    "X = bone_marrow_transplant_children.data.features \n",
    "y = bone_marrow_transplant_children.data.targets \n",
    "  \n",
    "# metadata \n",
    "print(bone_marrow_transplant_children.metadata) \n",
    "  \n",
    "# variable information \n",
    "print(bone_marrow_transplant_children.variables) \n"
   ]
  },
  {
   "cell_type": "markdown",
   "metadata": {},
   "source": [
    "Now we display the number of missing values per column in the dataset"
   ]
  },
  {
   "cell_type": "code",
   "execution_count": null,
   "metadata": {},
   "outputs": [
    {
     "name": "stdout",
     "output_type": "stream",
     "text": [
      "Missing features :\n",
      "Recipientgender          0\n",
      "Stemcellsource           0\n",
      "Donorage                 0\n",
      "Donorage35               0\n",
      "IIIV                     0\n",
      "Gendermatch              0\n",
      "DonorABO                 0\n",
      "RecipientABO             1\n",
      "RecipientRh              2\n",
      "ABOmatch                 1\n",
      "CMVstatus               16\n",
      "DonorCMV                 2\n",
      "RecipientCMV            14\n",
      "Disease                  0\n",
      "Riskgroup                0\n",
      "Txpostrelapse            0\n",
      "Diseasegroup             0\n",
      "HLAmatch                 0\n",
      "HLAmismatch              0\n",
      "Antigen                  1\n",
      "Allele                   1\n",
      "HLAgrI                   0\n",
      "Recipientage             0\n",
      "Recipientage10           0\n",
      "Recipientageint          0\n",
      "Relapse                  0\n",
      "aGvHDIIIIV               0\n",
      "extcGvHD                31\n",
      "CD34kgx10d6              0\n",
      "CD3dCD34                 5\n",
      "CD3dkgx10d8              5\n",
      "Rbodymass                2\n",
      "ANCrecovery              0\n",
      "PLTrecovery              0\n",
      "time_to_aGvHD_III_IV     0\n",
      "survival_time            0\n",
      "dtype: int64\n"
     ]
    }
   ],
   "source": [
    "mFeatures = X.isna()\n",
    "mTargets = y.isna()\n",
    "print(f\"Missing features :\\n{mFeatures.sum()}\")\n",
    "# print(f\"Missing targets: {mTargets.sum()}\") 0"
   ]
  },
  {
   "cell_type": "code",
   "execution_count": null,
   "metadata": {},
   "outputs": [
    {
     "name": "stdout",
     "output_type": "stream",
     "text": [
      "Total instances with missing features: 24.06%\n"
     ]
    }
   ],
   "source": [
    "\n",
    "# Calculate the total number of instances with missing values for features\n",
    "tmFeatures = mFeatures.any(axis=1).sum()\n",
    "print(f\"Total instances with missing features: {round(tmFeatures/len(X) * 100, 2)}%\")"
   ]
  },
  {
   "cell_type": "code",
   "execution_count": null,
   "metadata": {},
   "outputs": [
    {
     "data": {
      "text/html": [
       "<div>\n",
       "<style scoped>\n",
       "    .dataframe tbody tr th:only-of-type {\n",
       "        vertical-align: middle;\n",
       "    }\n",
       "\n",
       "    .dataframe tbody tr th {\n",
       "        vertical-align: top;\n",
       "    }\n",
       "\n",
       "    .dataframe thead th {\n",
       "        text-align: right;\n",
       "    }\n",
       "</style>\n",
       "<table border=\"1\" class=\"dataframe\">\n",
       "  <thead>\n",
       "    <tr style=\"text-align: right;\">\n",
       "      <th></th>\n",
       "      <th>Recipientgender</th>\n",
       "      <th>Stemcellsource</th>\n",
       "      <th>Donorage</th>\n",
       "      <th>Donorage35</th>\n",
       "      <th>IIIV</th>\n",
       "      <th>Gendermatch</th>\n",
       "      <th>DonorABO</th>\n",
       "      <th>RecipientABO</th>\n",
       "      <th>RecipientRh</th>\n",
       "      <th>ABOmatch</th>\n",
       "      <th>...</th>\n",
       "      <th>aGvHDIIIIV</th>\n",
       "      <th>extcGvHD</th>\n",
       "      <th>CD34kgx10d6</th>\n",
       "      <th>CD3dCD34</th>\n",
       "      <th>CD3dkgx10d8</th>\n",
       "      <th>Rbodymass</th>\n",
       "      <th>ANCrecovery</th>\n",
       "      <th>PLTrecovery</th>\n",
       "      <th>time_to_aGvHD_III_IV</th>\n",
       "      <th>survival_time</th>\n",
       "    </tr>\n",
       "  </thead>\n",
       "  <tbody>\n",
       "    <tr>\n",
       "      <th>count</th>\n",
       "      <td>187.000000</td>\n",
       "      <td>187.000000</td>\n",
       "      <td>187.000000</td>\n",
       "      <td>187.000000</td>\n",
       "      <td>187.000000</td>\n",
       "      <td>187.000000</td>\n",
       "      <td>187.000000</td>\n",
       "      <td>186.000000</td>\n",
       "      <td>185.000000</td>\n",
       "      <td>186.000000</td>\n",
       "      <td>...</td>\n",
       "      <td>187.000000</td>\n",
       "      <td>156.000000</td>\n",
       "      <td>187.000000</td>\n",
       "      <td>182.000000</td>\n",
       "      <td>182.000000</td>\n",
       "      <td>185.000000</td>\n",
       "      <td>187.000000</td>\n",
       "      <td>187.000000</td>\n",
       "      <td>187.000000</td>\n",
       "      <td>187.000000</td>\n",
       "    </tr>\n",
       "    <tr>\n",
       "      <th>mean</th>\n",
       "      <td>0.598930</td>\n",
       "      <td>0.775401</td>\n",
       "      <td>33.472068</td>\n",
       "      <td>0.443850</td>\n",
       "      <td>0.598930</td>\n",
       "      <td>0.171123</td>\n",
       "      <td>0.390374</td>\n",
       "      <td>0.274194</td>\n",
       "      <td>0.854054</td>\n",
       "      <td>0.720430</td>\n",
       "      <td>...</td>\n",
       "      <td>0.786096</td>\n",
       "      <td>0.820513</td>\n",
       "      <td>11.891781</td>\n",
       "      <td>5.385096</td>\n",
       "      <td>4.745714</td>\n",
       "      <td>35.801081</td>\n",
       "      <td>26752.866310</td>\n",
       "      <td>90937.919786</td>\n",
       "      <td>775408.042781</td>\n",
       "      <td>938.743316</td>\n",
       "    </tr>\n",
       "    <tr>\n",
       "      <th>std</th>\n",
       "      <td>0.491431</td>\n",
       "      <td>0.418438</td>\n",
       "      <td>8.271826</td>\n",
       "      <td>0.498171</td>\n",
       "      <td>0.491431</td>\n",
       "      <td>0.377627</td>\n",
       "      <td>0.837632</td>\n",
       "      <td>0.938706</td>\n",
       "      <td>0.354010</td>\n",
       "      <td>0.449999</td>\n",
       "      <td>...</td>\n",
       "      <td>0.411161</td>\n",
       "      <td>0.384996</td>\n",
       "      <td>9.914386</td>\n",
       "      <td>9.598716</td>\n",
       "      <td>3.859128</td>\n",
       "      <td>19.650922</td>\n",
       "      <td>161747.200525</td>\n",
       "      <td>288242.407688</td>\n",
       "      <td>418425.252689</td>\n",
       "      <td>849.589495</td>\n",
       "    </tr>\n",
       "    <tr>\n",
       "      <th>min</th>\n",
       "      <td>0.000000</td>\n",
       "      <td>0.000000</td>\n",
       "      <td>18.646575</td>\n",
       "      <td>0.000000</td>\n",
       "      <td>0.000000</td>\n",
       "      <td>0.000000</td>\n",
       "      <td>-1.000000</td>\n",
       "      <td>-1.000000</td>\n",
       "      <td>0.000000</td>\n",
       "      <td>0.000000</td>\n",
       "      <td>...</td>\n",
       "      <td>0.000000</td>\n",
       "      <td>0.000000</td>\n",
       "      <td>0.790000</td>\n",
       "      <td>0.204132</td>\n",
       "      <td>0.040000</td>\n",
       "      <td>6.000000</td>\n",
       "      <td>9.000000</td>\n",
       "      <td>9.000000</td>\n",
       "      <td>10.000000</td>\n",
       "      <td>6.000000</td>\n",
       "    </tr>\n",
       "    <tr>\n",
       "      <th>25%</th>\n",
       "      <td>0.000000</td>\n",
       "      <td>1.000000</td>\n",
       "      <td>27.039726</td>\n",
       "      <td>0.000000</td>\n",
       "      <td>0.000000</td>\n",
       "      <td>0.000000</td>\n",
       "      <td>0.000000</td>\n",
       "      <td>-1.000000</td>\n",
       "      <td>1.000000</td>\n",
       "      <td>0.000000</td>\n",
       "      <td>...</td>\n",
       "      <td>1.000000</td>\n",
       "      <td>1.000000</td>\n",
       "      <td>5.350000</td>\n",
       "      <td>1.786683</td>\n",
       "      <td>1.687500</td>\n",
       "      <td>19.000000</td>\n",
       "      <td>13.000000</td>\n",
       "      <td>16.000000</td>\n",
       "      <td>1000000.000000</td>\n",
       "      <td>168.500000</td>\n",
       "    </tr>\n",
       "    <tr>\n",
       "      <th>50%</th>\n",
       "      <td>1.000000</td>\n",
       "      <td>1.000000</td>\n",
       "      <td>33.550685</td>\n",
       "      <td>0.000000</td>\n",
       "      <td>1.000000</td>\n",
       "      <td>0.000000</td>\n",
       "      <td>0.000000</td>\n",
       "      <td>0.000000</td>\n",
       "      <td>1.000000</td>\n",
       "      <td>1.000000</td>\n",
       "      <td>...</td>\n",
       "      <td>1.000000</td>\n",
       "      <td>1.000000</td>\n",
       "      <td>9.720000</td>\n",
       "      <td>2.734462</td>\n",
       "      <td>4.325000</td>\n",
       "      <td>33.000000</td>\n",
       "      <td>15.000000</td>\n",
       "      <td>21.000000</td>\n",
       "      <td>1000000.000000</td>\n",
       "      <td>676.000000</td>\n",
       "    </tr>\n",
       "    <tr>\n",
       "      <th>75%</th>\n",
       "      <td>1.000000</td>\n",
       "      <td>1.000000</td>\n",
       "      <td>40.117809</td>\n",
       "      <td>1.000000</td>\n",
       "      <td>1.000000</td>\n",
       "      <td>0.000000</td>\n",
       "      <td>1.000000</td>\n",
       "      <td>1.000000</td>\n",
       "      <td>1.000000</td>\n",
       "      <td>1.000000</td>\n",
       "      <td>...</td>\n",
       "      <td>1.000000</td>\n",
       "      <td>1.000000</td>\n",
       "      <td>15.415000</td>\n",
       "      <td>5.823565</td>\n",
       "      <td>6.785000</td>\n",
       "      <td>50.600000</td>\n",
       "      <td>17.000000</td>\n",
       "      <td>37.000000</td>\n",
       "      <td>1000000.000000</td>\n",
       "      <td>1604.000000</td>\n",
       "    </tr>\n",
       "    <tr>\n",
       "      <th>max</th>\n",
       "      <td>1.000000</td>\n",
       "      <td>1.000000</td>\n",
       "      <td>55.553425</td>\n",
       "      <td>1.000000</td>\n",
       "      <td>1.000000</td>\n",
       "      <td>1.000000</td>\n",
       "      <td>2.000000</td>\n",
       "      <td>2.000000</td>\n",
       "      <td>1.000000</td>\n",
       "      <td>1.000000</td>\n",
       "      <td>...</td>\n",
       "      <td>1.000000</td>\n",
       "      <td>1.000000</td>\n",
       "      <td>57.780000</td>\n",
       "      <td>99.560970</td>\n",
       "      <td>20.020000</td>\n",
       "      <td>103.400000</td>\n",
       "      <td>1000000.000000</td>\n",
       "      <td>1000000.000000</td>\n",
       "      <td>1000000.000000</td>\n",
       "      <td>3364.000000</td>\n",
       "    </tr>\n",
       "  </tbody>\n",
       "</table>\n",
       "<p>8 rows × 35 columns</p>\n",
       "</div>"
      ],
      "text/plain": [
       "       Recipientgender  Stemcellsource    Donorage  Donorage35        IIIV  \\\n",
       "count       187.000000      187.000000  187.000000  187.000000  187.000000   \n",
       "mean          0.598930        0.775401   33.472068    0.443850    0.598930   \n",
       "std           0.491431        0.418438    8.271826    0.498171    0.491431   \n",
       "min           0.000000        0.000000   18.646575    0.000000    0.000000   \n",
       "25%           0.000000        1.000000   27.039726    0.000000    0.000000   \n",
       "50%           1.000000        1.000000   33.550685    0.000000    1.000000   \n",
       "75%           1.000000        1.000000   40.117809    1.000000    1.000000   \n",
       "max           1.000000        1.000000   55.553425    1.000000    1.000000   \n",
       "\n",
       "       Gendermatch    DonorABO  RecipientABO  RecipientRh    ABOmatch  ...  \\\n",
       "count   187.000000  187.000000    186.000000   185.000000  186.000000  ...   \n",
       "mean      0.171123    0.390374      0.274194     0.854054    0.720430  ...   \n",
       "std       0.377627    0.837632      0.938706     0.354010    0.449999  ...   \n",
       "min       0.000000   -1.000000     -1.000000     0.000000    0.000000  ...   \n",
       "25%       0.000000    0.000000     -1.000000     1.000000    0.000000  ...   \n",
       "50%       0.000000    0.000000      0.000000     1.000000    1.000000  ...   \n",
       "75%       0.000000    1.000000      1.000000     1.000000    1.000000  ...   \n",
       "max       1.000000    2.000000      2.000000     1.000000    1.000000  ...   \n",
       "\n",
       "       aGvHDIIIIV    extcGvHD  CD34kgx10d6    CD3dCD34  CD3dkgx10d8  \\\n",
       "count  187.000000  156.000000   187.000000  182.000000   182.000000   \n",
       "mean     0.786096    0.820513    11.891781    5.385096     4.745714   \n",
       "std      0.411161    0.384996     9.914386    9.598716     3.859128   \n",
       "min      0.000000    0.000000     0.790000    0.204132     0.040000   \n",
       "25%      1.000000    1.000000     5.350000    1.786683     1.687500   \n",
       "50%      1.000000    1.000000     9.720000    2.734462     4.325000   \n",
       "75%      1.000000    1.000000    15.415000    5.823565     6.785000   \n",
       "max      1.000000    1.000000    57.780000   99.560970    20.020000   \n",
       "\n",
       "        Rbodymass     ANCrecovery     PLTrecovery  time_to_aGvHD_III_IV  \\\n",
       "count  185.000000      187.000000      187.000000            187.000000   \n",
       "mean    35.801081    26752.866310    90937.919786         775408.042781   \n",
       "std     19.650922   161747.200525   288242.407688         418425.252689   \n",
       "min      6.000000        9.000000        9.000000             10.000000   \n",
       "25%     19.000000       13.000000       16.000000        1000000.000000   \n",
       "50%     33.000000       15.000000       21.000000        1000000.000000   \n",
       "75%     50.600000       17.000000       37.000000        1000000.000000   \n",
       "max    103.400000  1000000.000000  1000000.000000        1000000.000000   \n",
       "\n",
       "       survival_time  \n",
       "count     187.000000  \n",
       "mean      938.743316  \n",
       "std       849.589495  \n",
       "min         6.000000  \n",
       "25%       168.500000  \n",
       "50%       676.000000  \n",
       "75%      1604.000000  \n",
       "max      3364.000000  \n",
       "\n",
       "[8 rows x 35 columns]"
      ]
     },
     "execution_count": 5,
     "metadata": {},
     "output_type": "execute_result"
    }
   ],
   "source": [
    "X.describe()"
   ]
  },
  {
   "cell_type": "code",
   "execution_count": null,
   "metadata": {},
   "outputs": [
    {
     "name": "stdout",
     "output_type": "stream",
     "text": [
      "Column 'RecipientABO' is numeric\n",
      "Column 'RecipientRh' is numeric\n",
      "Column 'ABOmatch' is numeric\n",
      "Column 'CMVstatus' is numeric\n",
      "Column 'DonorCMV' is numeric\n",
      "Column 'RecipientCMV' is numeric\n",
      "Column 'Antigen' is numeric\n",
      "Column 'Allele' is numeric\n",
      "Column 'extcGvHD' is numeric\n",
      "Column 'CD3dCD34' is numeric\n",
      "Column 'CD3dkgx10d8' is numeric\n",
      "Column 'Rbodymass' is numeric\n"
     ]
    }
   ],
   "source": [
    "missing = X.isna().any()\n",
    "# Check data types of columns with missing values, checking that the columns where there are missing values are all numeric\n",
    "for column_name, has_missing in missing.items():\n",
    "    if has_missing:\n",
    "        data_type = X[column_name].dtype\n",
    "        print(f\"Column '{column_name}' is {'numeric' if pd.api.types.is_numeric_dtype(data_type) else 'string'}\")"
   ]
  },
  {
   "cell_type": "markdown",
   "metadata": {},
   "source": [
    "We observe a non-negligible number of incomplete instances and thus simply removing them is not an option we therefore need to impute. We import custom RNN imputer class"
   ]
  },
  {
   "cell_type": "code",
   "execution_count": null,
   "metadata": {},
   "outputs": [
    {
     "name": "stderr",
     "output_type": "stream",
     "text": [
      "2023-11-07 16:56:51.730023: I tensorflow/tsl/cuda/cudart_stub.cc:28] Could not find cuda drivers on your machine, GPU will not be used.\n",
      "2023-11-07 16:56:51.890327: E tensorflow/compiler/xla/stream_executor/cuda/cuda_dnn.cc:9342] Unable to register cuDNN factory: Attempting to register factory for plugin cuDNN when one has already been registered\n",
      "2023-11-07 16:56:51.890361: E tensorflow/compiler/xla/stream_executor/cuda/cuda_fft.cc:609] Unable to register cuFFT factory: Attempting to register factory for plugin cuFFT when one has already been registered\n",
      "2023-11-07 16:56:51.891286: E tensorflow/compiler/xla/stream_executor/cuda/cuda_blas.cc:1518] Unable to register cuBLAS factory: Attempting to register factory for plugin cuBLAS when one has already been registered\n",
      "2023-11-07 16:56:51.953755: I tensorflow/tsl/cuda/cudart_stub.cc:28] Could not find cuda drivers on your machine, GPU will not be used.\n",
      "2023-11-07 16:56:51.955073: I tensorflow/core/platform/cpu_feature_guard.cc:182] This TensorFlow binary is optimized to use available CPU instructions in performance-critical operations.\n",
      "To enable the following instructions: AVX2 FMA, in other operations, rebuild TensorFlow with the appropriate compiler flags.\n",
      "2023-11-07 16:56:53.073398: W tensorflow/compiler/tf2tensorrt/utils/py_utils.cc:38] TF-TRT Warning: Could not find TensorRT\n"
     ]
    },
    {
     "name": "stdout",
     "output_type": "stream",
     "text": [
      "Epoch 1/30\n",
      "6/6 [==============================] - 3s 252ms/step - loss: 121.3980\n",
      "Epoch 2/30\n",
      "6/6 [==============================] - 1s 243ms/step - loss: 78.1185\n",
      "Epoch 3/30\n",
      "6/6 [==============================] - 2s 255ms/step - loss: 56.5395\n",
      "Epoch 4/30\n",
      "6/6 [==============================] - 1s 249ms/step - loss: 40.8559\n",
      "Epoch 5/30\n",
      "6/6 [==============================] - 2s 273ms/step - loss: 29.8997\n",
      "Epoch 6/30\n",
      "6/6 [==============================] - 2s 254ms/step - loss: 22.9851\n",
      "Epoch 7/30\n",
      "6/6 [==============================] - 2s 282ms/step - loss: 17.1111\n",
      "Epoch 8/30\n",
      "6/6 [==============================] - 1s 235ms/step - loss: 12.7626\n",
      "Epoch 9/30\n",
      "6/6 [==============================] - 2s 261ms/step - loss: 9.5911\n",
      "Epoch 10/30\n",
      "6/6 [==============================] - 2s 250ms/step - loss: 7.1622\n",
      "Epoch 11/30\n",
      "6/6 [==============================] - 1s 235ms/step - loss: 5.7288\n",
      "Epoch 12/30\n",
      "6/6 [==============================] - 1s 231ms/step - loss: 4.6779\n",
      "Epoch 13/30\n",
      "6/6 [==============================] - 1s 231ms/step - loss: 3.9866\n",
      "Epoch 14/30\n",
      "6/6 [==============================] - 1s 233ms/step - loss: 3.5639\n",
      "Epoch 15/30\n",
      "6/6 [==============================] - 1s 229ms/step - loss: 3.0896\n",
      "Epoch 16/30\n",
      "6/6 [==============================] - 1s 231ms/step - loss: 2.7823\n",
      "Epoch 17/30\n",
      "6/6 [==============================] - 1s 231ms/step - loss: 2.5342\n",
      "Epoch 18/30\n",
      "6/6 [==============================] - 1s 231ms/step - loss: 2.3301\n",
      "Epoch 19/30\n",
      "6/6 [==============================] - 1s 228ms/step - loss: 2.1408\n",
      "Epoch 20/30\n",
      "6/6 [==============================] - 1s 230ms/step - loss: 2.0100\n",
      "Epoch 21/30\n",
      "6/6 [==============================] - 1s 236ms/step - loss: 1.8491\n",
      "Epoch 22/30\n",
      "6/6 [==============================] - 1s 230ms/step - loss: 1.7272\n",
      "Epoch 23/30\n",
      "6/6 [==============================] - 1s 229ms/step - loss: 1.6121\n",
      "Epoch 24/30\n",
      "6/6 [==============================] - 1s 230ms/step - loss: 1.5212\n",
      "Epoch 25/30\n",
      "6/6 [==============================] - 1s 230ms/step - loss: 1.4313\n",
      "Epoch 26/30\n",
      "6/6 [==============================] - 1s 229ms/step - loss: 1.3584\n",
      "Epoch 27/30\n",
      "6/6 [==============================] - 1s 229ms/step - loss: 1.2854\n",
      "Epoch 28/30\n",
      "6/6 [==============================] - 1s 232ms/step - loss: 1.2053\n",
      "Epoch 29/30\n",
      "6/6 [==============================] - 1s 233ms/step - loss: 1.1335\n",
      "Epoch 30/30\n",
      "6/6 [==============================] - 1s 232ms/step - loss: 1.0739\n",
      "1/1 [==============================] - 0s 326ms/step\n",
      "1/1 [==============================] - 0s 29ms/step\n",
      "1/1 [==============================] - 0s 30ms/step\n",
      "1/1 [==============================] - 0s 29ms/step\n",
      "1/1 [==============================] - 0s 30ms/step\n",
      "1/1 [==============================] - 0s 31ms/step\n",
      "1/1 [==============================] - 0s 29ms/step\n",
      "1/1 [==============================] - 0s 31ms/step\n",
      "1/1 [==============================] - 0s 30ms/step\n",
      "1/1 [==============================] - 0s 29ms/step\n",
      "1/1 [==============================] - 0s 30ms/step\n",
      "1/1 [==============================] - 0s 30ms/step\n",
      "1/1 [==============================] - 0s 30ms/step\n",
      "1/1 [==============================] - 0s 28ms/step\n",
      "1/1 [==============================] - 0s 30ms/step\n",
      "1/1 [==============================] - 0s 29ms/step\n",
      "1/1 [==============================] - 0s 29ms/step\n",
      "1/1 [==============================] - 0s 30ms/step\n",
      "1/1 [==============================] - 0s 30ms/step\n",
      "1/1 [==============================] - 0s 29ms/step\n",
      "1/1 [==============================] - 0s 29ms/step\n",
      "1/1 [==============================] - 0s 30ms/step\n",
      "1/1 [==============================] - 0s 30ms/step\n",
      "1/1 [==============================] - 0s 29ms/step\n",
      "1/1 [==============================] - 0s 30ms/step\n",
      "1/1 [==============================] - 0s 29ms/step\n",
      "1/1 [==============================] - 0s 30ms/step\n",
      "1/1 [==============================] - 0s 30ms/step\n",
      "1/1 [==============================] - 0s 29ms/step\n",
      "1/1 [==============================] - 0s 29ms/step\n",
      "1/1 [==============================] - 0s 30ms/step\n",
      "1/1 [==============================] - 0s 30ms/step\n",
      "1/1 [==============================] - 0s 29ms/step\n",
      "1/1 [==============================] - 0s 29ms/step\n",
      "1/1 [==============================] - 0s 30ms/step\n",
      "1/1 [==============================] - 0s 30ms/step\n",
      "1/1 [==============================] - 0s 30ms/step\n",
      "1/1 [==============================] - 0s 30ms/step\n",
      "1/1 [==============================] - 0s 30ms/step\n",
      "1/1 [==============================] - 0s 30ms/step\n",
      "1/1 [==============================] - 0s 30ms/step\n",
      "1/1 [==============================] - 0s 30ms/step\n",
      "1/1 [==============================] - 0s 31ms/step\n",
      "1/1 [==============================] - 0s 29ms/step\n",
      "1/1 [==============================] - 0s 29ms/step\n"
     ]
    }
   ],
   "source": [
    "from utils import RNNAutoImputer\n",
    "\n",
    "# select columns with missing values\n",
    "miscols = X.columns[missing].tolist()\n",
    "subset = X[miscols]\n",
    "imputer = RNNAutoImputer(rnn_units=1024)\n",
    "\n",
    "# Trains the RNN, run on 10th gen i5 locally takes ~ 2m 40 seconds \n",
    "imputedSubset = imputer.impute(subset)\n",
    "\n"
   ]
  },
  {
   "cell_type": "markdown",
   "metadata": {},
   "source": [
    "Now we update the column subset with missing values"
   ]
  },
  {
   "cell_type": "code",
   "execution_count": null,
   "metadata": {},
   "outputs": [
    {
     "name": "stderr",
     "output_type": "stream",
     "text": [
      "/tmp/ipykernel_3208/362839367.py:1: SettingWithCopyWarning: \n",
      "A value is trying to be set on a copy of a slice from a DataFrame.\n",
      "Try using .loc[row_indexer,col_indexer] = value instead\n",
      "\n",
      "See the caveats in the documentation: https://pandas.pydata.org/pandas-docs/stable/user_guide/indexing.html#returning-a-view-versus-a-copy\n",
      "  X[miscols]=imputedSubset\n"
     ]
    }
   ],
   "source": [
    "X[miscols]=imputedSubset\n",
    "bone_marrow_transplant_children.features = X"
   ]
  },
  {
   "cell_type": "markdown",
   "metadata": {},
   "source": [
    "#### Embeddings on string attributes"
   ]
  },
  {
   "cell_type": "markdown",
   "metadata": {},
   "source": [
    "For clustering the patients into subgroups for the survival analysis, we need to compute contextual embeddings of the string features so that they can be processed by the clustering algorithms, or simply leave them out."
   ]
  },
  {
   "cell_type": "markdown",
   "metadata": {},
   "source": [
    "### Clustering patients"
   ]
  },
  {
   "cell_type": "markdown",
   "metadata": {},
   "source": [
    "To perform clustering, and due to the high dimensionality of the data, we are going to use UMAP (Uniform Manifold Approximation and Projection) to reduce dimensionality and then cluster.\n",
    "Uniform Manifold Approximation and Projection (UMAP) is a dimension reduction technique that can be used for visualisation similarly to t-SNE, but also for general non-linear dimension reduction. The algorithm is founded on three assumptions about the data\n",
    "\n",
    "1. The data is uniformly distributed on Riemannian manifold;\n",
    "\n",
    "2. The Riemannian metric is locally constant (or can be approximated as such);\n",
    "\n",
    "3. The manifold is locally connected.\n",
    "\n",
    "From these assumptions it is possible to model the manifold with a fuzzy topological structure. The embedding is found by searching for a low dimensional projection of the data that has the closest possible equivalent fuzzy topological structure.\n"
   ]
  },
  {
   "cell_type": "code",
   "execution_count": null,
   "metadata": {},
   "outputs": [
    {
     "name": "stdout",
     "output_type": "stream",
     "text": [
      "Requirement already satisfied: umap-learn in ./venv/lib/python3.10/site-packages (0.5.4)\n",
      "Requirement already satisfied: numpy>=1.17 in ./venv/lib/python3.10/site-packages (from umap-learn) (1.26.1)\n",
      "Requirement already satisfied: scipy>=1.3.1 in ./venv/lib/python3.10/site-packages (from umap-learn) (1.11.3)\n",
      "Requirement already satisfied: scikit-learn>=0.22 in ./venv/lib/python3.10/site-packages (from umap-learn) (1.3.2)\n",
      "Requirement already satisfied: numba>=0.51.2 in ./venv/lib/python3.10/site-packages (from umap-learn) (0.58.1)\n",
      "Requirement already satisfied: pynndescent>=0.5 in ./venv/lib/python3.10/site-packages (from umap-learn) (0.5.10)\n",
      "Requirement already satisfied: tqdm in ./venv/lib/python3.10/site-packages (from umap-learn) (4.66.1)\n",
      "Requirement already satisfied: tbb>=2019.0 in ./venv/lib/python3.10/site-packages (from umap-learn) (2021.10.0)\n",
      "Requirement already satisfied: llvmlite<0.42,>=0.41.0dev0 in ./venv/lib/python3.10/site-packages (from numba>=0.51.2->umap-learn) (0.41.1)\n",
      "Requirement already satisfied: joblib>=0.11 in ./venv/lib/python3.10/site-packages (from pynndescent>=0.5->umap-learn) (1.3.2)\n",
      "Requirement already satisfied: threadpoolctl>=2.0.0 in ./venv/lib/python3.10/site-packages (from scikit-learn>=0.22->umap-learn) (3.2.0)\n",
      "Requirement already satisfied: hdbscan in ./venv/lib/python3.10/site-packages (0.8.33)\n",
      "Requirement already satisfied: cython<3,>=0.27 in ./venv/lib/python3.10/site-packages (from hdbscan) (0.29.36)\n",
      "Requirement already satisfied: numpy>=1.20 in ./venv/lib/python3.10/site-packages (from hdbscan) (1.26.1)\n",
      "Requirement already satisfied: scipy>=1.0 in ./venv/lib/python3.10/site-packages (from hdbscan) (1.11.3)\n",
      "Requirement already satisfied: scikit-learn>=0.20 in ./venv/lib/python3.10/site-packages (from hdbscan) (1.3.2)\n",
      "Requirement already satisfied: joblib>=1.0 in ./venv/lib/python3.10/site-packages (from hdbscan) (1.3.2)\n",
      "Requirement already satisfied: threadpoolctl>=2.0.0 in ./venv/lib/python3.10/site-packages (from scikit-learn>=0.20->hdbscan) (3.2.0)\n"
     ]
    }
   ],
   "source": [
    "! pip install umap-learn\n",
    "! pip install hdbscan"
   ]
  },
  {
   "cell_type": "code",
   "execution_count": null,
   "metadata": {},
   "outputs": [
    {
     "name": "stderr",
     "output_type": "stream",
     "text": [
      "/home/jorge/Desktop/Data science/4/MLH/venv/lib/python3.10/site-packages/tqdm/auto.py:21: TqdmWarning: IProgress not found. Please update jupyter and ipywidgets. See https://ipywidgets.readthedocs.io/en/stable/user_install.html\n",
      "  from .autonotebook import tqdm as notebook_tqdm\n"
     ]
    }
   ],
   "source": [
    "import umap\n",
    "\n",
    "# run clustering on this\n",
    "sbset = X.iloc[:, X.columns!= 'survival_time']\n",
    "\n",
    "# concat with this for the \n",
    "times = X.iloc[:, X.columns == 'survival_time']"
   ]
  },
  {
   "cell_type": "code",
   "execution_count": null,
   "metadata": {},
   "outputs": [],
   "source": [
    "# take out disease column\n",
    "nodis = sbset.iloc[: , sbset.columns != 'Disease']\n",
    "disease = sbset.iloc[:, sbset.columns == 'Disease']"
   ]
  },
  {
   "cell_type": "code",
   "execution_count": null,
   "metadata": {},
   "outputs": [],
   "source": [
    "ncomp = 4\n",
    "umodel = umap.UMAP(n_components=ncomp)\n",
    "umres = umodel.fit_transform(nodis)\n",
    "\n",
    "# reduced data\n",
    "rdata = pd.DataFrame(data=umres, columns=[f\"UMAP {i}\" for i in range(ncomp)])\n",
    "fdata = pd.concat([rdata,disease, times])"
   ]
  },
  {
   "cell_type": "code",
   "execution_count": null,
   "metadata": {},
   "outputs": [],
   "source": [
    "# now we run clustering in the algorithm, we use GMMs\n",
    "from sklearn.mixture import GaussianMixture as GMM\n",
    "from sklearn.preprocessing import StandardScaler\n",
    "import matplotlib.pyplot as plt\n",
    "\n",
    "def bic_val(data, K_list, verbose=False):\n",
    "    lowest_bic = float('inf')  # Initialize the lowest BIC value as positive infinity\n",
    "    best_k = 0  # Initialize the best K value as 0\n",
    "    bics = []\n",
    "    for k in K_list:\n",
    "        model = GMM(n_components=k, covariance_type='full', random_state=42)\n",
    "        model.fit(data)\n",
    "        bic = model.bic(data)\n",
    "        bics.append(bic)\n",
    "\n",
    "        if bic < lowest_bic:\n",
    "            lowest_bic = bic\n",
    "            best_k = k\n",
    "    if verbose: \n",
    "        # Create a plot\n",
    "        plt.figure(figsize=(8, 6))\n",
    "        plt.plot(K_list, bics, marker='o')\n",
    "        plt.title(\"BIC vs. Number of Components (K)\")\n",
    "        plt.xlabel(\"Number of Components (K)\")\n",
    "        plt.ylabel(\"BIC Value\")\n",
    "        plt.grid(True)\n",
    "        plt.show()\n",
    "\n",
    "    return best_k, lowest_bic"
   ]
  },
  {
   "cell_type": "code",
   "execution_count": null,
   "metadata": {},
   "outputs": [],
   "source": [
    "bestk, _ = bic_val(rdata, [i for i in range(1,11)])\n",
    "model = GMM(n_components=bestk, covariance_type='full', random_state=42)\n",
    "scaler = StandardScaler()\n",
    "scaled = scaler.fit_transform(rdata)\n",
    "model.fit(scaled)\n",
    "# getting clustering labels from GMM\n",
    "labels = model.predict(scaled)\n",
    "X['clustered group'] = labels"
   ]
  },
  {
   "cell_type": "markdown",
   "metadata": {},
   "source": [
    "### Kaplan - Meier\n",
    "\n",
    "\n",
    "\n"
   ]
  },
  {
   "cell_type": "markdown",
   "metadata": {},
   "source": [
    "The Kaplan-Meier estimator, also known as the Product-Limit estimator, is a non-parametric statistic used to estimate the survival function of time-to-event data, especially in medical and biological research. It provides a way to estimate the probability that an event of interest (e.g., death, failure, or event occurrence) will happen at or before a specific time.\n",
    "\n",
    "##### Basics of Survival Analysis\n",
    "\n",
    "Survival analysis is often used when dealing with censored data, where we don't know the exact event times for all individuals in a study. Instead, we only have partial information, which can be in one of three states:\n",
    "\n",
    "1. An observed event has occurred.\n",
    "2. The event has not yet occurred, but the subject is still under observation.\n",
    "3. The event has not occurred, and the subject has left the study (censored).\n",
    "\n",
    "##### Kaplan-Meier Estimator Formula\n",
    "\n",
    "The Kaplan-Meier estimator is based on the product of conditional survival probabilities over time. The survival function, denoted as S(t), is defined as the probability that the event of interest has not occurred by time t. The formula for the Kaplan-Meier estimator is as follows:\n",
    "\n",
    "$$\n",
    "\\hat{S}(t) = \\prod_{i: t_i \\leq t} \\left(1 - \\frac{d_i}{n_i}\\right)\n",
    "$$\n",
    "\n",
    "Where:\n",
    "- $\\hat{S}(t)$ is the estimated survival probability at time t.\n",
    "- $t_i$ represents the observed event times.\n",
    "- $d_i$ is the number of observed events at time $t_i$.\n",
    "- $n_i$ is the number of subjects at risk (not censored) just before time $t_i$.\n",
    "\n",
    "\n",
    "This model is basic and weak since it does not account for patient features, it constitutes however a good starting point.\n",
    "\n",
    "##### Interpreting the Kaplan-Meier Curve\n",
    "\n",
    "- The shape of the curve reflects the survival experience of the study population.\n",
    "- Steps or drops in the curve occur when events (deaths or failures) happen.\n",
    "- The curve may reach 0 (complete failure) if all subjects experience the event."
   ]
  },
  {
   "cell_type": "markdown",
   "metadata": {},
   "source": [
    "Now we import the necessary library, sort the dataset based on survival times and fit the Kaplan-Meier for different values of the clustered groups found through GMM"
   ]
  },
  {
   "cell_type": "code",
   "execution_count": null,
   "metadata": {},
   "outputs": [],
   "source": [
    "import kaplanmeier as km\n",
    "\n",
    "df = pd.DataFrame(X, columns = bone_marrow_transplant_children.columns)\n",
    "df['Survival_status'] = y\n",
    "df2 = df.sort_values(by='survival_time') # values need to be sorted by survival time"
   ]
  },
  {
   "cell_type": "code",
   "execution_count": null,
   "metadata": {},
   "outputs": [
    {
     "data": {
      "image/png": "[encoded data removed]",
      "text/plain": [
       "<Figure size 1000x600 with 2 Axes>"
      ]
     },
     "metadata": {},
     "output_type": "display_data"
    }
   ],
   "source": [
    "times = df2['survival_time']\n",
    "censoring = df2['Survival_status'] # survival status is censored\n",
    "y = df2['clustered group'] # compute Kaplan-Meier curve for different diseases\n",
    "results = km.fit(times, censoring, y)\n",
    "km.plot(results)"
   ]
  },
  {
   "cell_type": "markdown",
   "metadata": {},
   "source": [
    "### Cox-Hazard model"
   ]
  },
  {
   "cell_type": "code",
   "execution_count": null,
   "metadata": {},
   "outputs": [
    {
     "name": "stdout",
     "output_type": "stream",
     "text": [
      "Requirement already satisfied: lifelines in ./venv/lib/python3.10/site-packages (0.27.8)\n",
      "Requirement already satisfied: numpy<2.0,>=1.14.0 in ./venv/lib/python3.10/site-packages (from lifelines) (1.26.1)\n",
      "Requirement already satisfied: scipy>=1.2.0 in ./venv/lib/python3.10/site-packages (from lifelines) (1.11.3)\n",
      "Requirement already satisfied: pandas>=1.0.0 in ./venv/lib/python3.10/site-packages (from lifelines) (2.1.1)\n",
      "Requirement already satisfied: matplotlib>=3.0 in ./venv/lib/python3.10/site-packages (from lifelines) (3.8.0)\n",
      "Requirement already satisfied: autograd>=1.5 in ./venv/lib/python3.10/site-packages (from lifelines) (1.6.2)\n",
      "Requirement already satisfied: autograd-gamma>=0.3 in ./venv/lib/python3.10/site-packages (from lifelines) (0.5.0)\n",
      "Requirement already satisfied: formulaic>=0.2.2 in ./venv/lib/python3.10/site-packages (from lifelines) (0.6.6)\n",
      "Requirement already satisfied: future>=0.15.2 in ./venv/lib/python3.10/site-packages (from autograd>=1.5->lifelines) (0.18.3)\n",
      "Requirement already satisfied: astor>=0.8 in ./venv/lib/python3.10/site-packages (from formulaic>=0.2.2->lifelines) (0.8.1)\n",
      "Requirement already satisfied: interface-meta>=1.2.0 in ./venv/lib/python3.10/site-packages (from formulaic>=0.2.2->lifelines) (1.3.0)\n",
      "Requirement already satisfied: typing-extensions>=4.2.0 in ./venv/lib/python3.10/site-packages (from formulaic>=0.2.2->lifelines) (4.8.0)\n",
      "Requirement already satisfied: wrapt>=1.0 in ./venv/lib/python3.10/site-packages (from formulaic>=0.2.2->lifelines) (1.14.1)\n",
      "Requirement already satisfied: contourpy>=1.0.1 in ./venv/lib/python3.10/site-packages (from matplotlib>=3.0->lifelines) (1.1.1)\n",
      "Requirement already satisfied: cycler>=0.10 in ./venv/lib/python3.10/site-packages (from matplotlib>=3.0->lifelines) (0.12.1)\n",
      "Requirement already satisfied: fonttools>=4.22.0 in ./venv/lib/python3.10/site-packages (from matplotlib>=3.0->lifelines) (4.43.1)\n",
      "Requirement already satisfied: kiwisolver>=1.0.1 in ./venv/lib/python3.10/site-packages (from matplotlib>=3.0->lifelines) (1.4.5)\n",
      "Requirement already satisfied: packaging>=20.0 in ./venv/lib/python3.10/site-packages (from matplotlib>=3.0->lifelines) (23.2)\n",
      "Requirement already satisfied: pillow>=6.2.0 in ./venv/lib/python3.10/site-packages (from matplotlib>=3.0->lifelines) (10.1.0)\n",
      "Requirement already satisfied: pyparsing>=2.3.1 in ./venv/lib/python3.10/site-packages (from matplotlib>=3.0->lifelines) (3.1.1)\n",
      "Requirement already satisfied: python-dateutil>=2.7 in ./venv/lib/python3.10/site-packages (from matplotlib>=3.0->lifelines) (2.8.2)\n",
      "Requirement already satisfied: pytz>=2020.1 in ./venv/lib/python3.10/site-packages (from pandas>=1.0.0->lifelines) (2023.3.post1)\n",
      "Requirement already satisfied: tzdata>=2022.1 in ./venv/lib/python3.10/site-packages (from pandas>=1.0.0->lifelines) (2023.3)\n",
      "Requirement already satisfied: six>=1.5 in ./venv/lib/python3.10/site-packages (from python-dateutil>=2.7->matplotlib>=3.0->lifelines) (1.16.0)\n"
     ]
    }
   ],
   "source": [
    "! pip install lifelines "
   ]
  },
  {
   "cell_type": "code",
   "execution_count": null,
   "metadata": {},
   "outputs": [
    {
     "data": {
      "text/plain": [
       "Index(['Recipientgender', 'Stemcellsource', 'Donorage', 'Donorage35', 'IIIV',\n",
       "       'Gendermatch', 'DonorABO', 'RecipientABO', 'RecipientRh', 'ABOmatch',\n",
       "       'CMVstatus', 'DonorCMV', 'RecipientCMV', 'Riskgroup', 'Txpostrelapse',\n",
       "       'Diseasegroup', 'HLAmatch', 'HLAmismatch', 'Antigen', 'Allele',\n",
       "       'HLAgrI', 'Recipientage', 'Recipientage10', 'Recipientageint',\n",
       "       'Relapse', 'aGvHDIIIIV', 'extcGvHD', 'CD34kgx10d6', 'CD3dCD34',\n",
       "       'CD3dkgx10d8', 'Rbodymass', 'ANCrecovery', 'PLTrecovery',\n",
       "       'time_to_aGvHD_III_IV', 'survival_time', 'clustered group',\n",
       "       'Survival_status'],\n",
       "      dtype='object')"
      ]
     },
     "execution_count": 48,
     "metadata": {},
     "output_type": "execute_result"
    }
   ],
   "source": [
    "df3.columns"
   ]
  },
  {
   "cell_type": "code",
   "execution_count": null,
   "metadata": {},
   "outputs": [
    {
     "name": "stderr",
     "output_type": "stream",
     "text": [
      "/home/jorge/Desktop/Data science/4/MLH/venv/lib/python3.10/site-packages/lifelines/fitters/coxph_fitter.py:1679: RuntimeWarning: overflow encountered in exp\n",
      "  scores = weights * exp(dot(X, beta))\n",
      "/home/jorge/Desktop/Data science/4/MLH/venv/lib/python3.10/site-packages/lifelines/fitters/coxph_fitter.py:1530: LinAlgWarning: Ill-conditioned matrix (rcond=0): result may not be accurate.\n",
      "  inv_h_dot_g_T = spsolve(-h, g, assume_a=\"pos\", check_finite=False)\n",
      "/home/jorge/Desktop/Data science/4/MLH/venv/lib/python3.10/site-packages/lifelines/utils/__init__.py:1122: ConvergenceWarning: Column Diseasegroup have very low variance when conditioned on death event present or not. This may harm convergence. This could be a form of 'complete separation'. For example, try the following code:\n",
      "\n",
      ">>> events = df['Survival_status'].astype(bool)\n",
      ">>> print(df.loc[events, 'Diseasegroup'].var())\n",
      ">>> print(df.loc[~events, 'Diseasegroup'].var())\n",
      "\n",
      "A very low variance means that the column Diseasegroup completely determines whether a subject dies or not. See https://stats.stackexchange.com/questions/11109/how-to-deal-with-perfect-separation-in-logistic-regression.\n",
      "\n",
      "  warnings.warn(dedent(warning_text), ConvergenceWarning)\n"
     ]
    },
    {
     "ename": "ConvergenceError",
     "evalue": "delta contains nan value(s). Convergence halted. Please see the following tips in the lifelines documentation: https://lifelines.readthedocs.io/en/latest/Examples.html#problems-with-convergence-in-the-cox-proportional-hazard-model",
     "output_type": "error",
     "traceback": [
      "\u001b[0;31m---------------------------------------------------------------------------\u001b[0m",
      "\u001b[0;31mConvergenceError\u001b[0m                          Traceback (most recent call last)",
      "\u001b[1;32m/home/jorge/Desktop/Data science/4/MLH/survival.ipynb Cell 32\u001b[0m line \u001b[0;36m5\n\u001b[1;32m      <a href='vscode-notebook-cell:/home/jorge/Desktop/Data%20science/4/MLH/survival.ipynb#X52sZmlsZQ%3D%3D?line=2'>3</a>\u001b[0m df3 \u001b[39m=\u001b[39m df2\u001b[39m.\u001b[39miloc[:, df2\u001b[39m.\u001b[39mcolumns \u001b[39m!=\u001b[39m \u001b[39m'\u001b[39m\u001b[39mDisease\u001b[39m\u001b[39m'\u001b[39m]\n\u001b[1;32m      <a href='vscode-notebook-cell:/home/jorge/Desktop/Data%20science/4/MLH/survival.ipynb#X52sZmlsZQ%3D%3D?line=3'>4</a>\u001b[0m cph \u001b[39m=\u001b[39m CoxPHFitter()\n\u001b[0;32m----> <a href='vscode-notebook-cell:/home/jorge/Desktop/Data%20science/4/MLH/survival.ipynb#X52sZmlsZQ%3D%3D?line=4'>5</a>\u001b[0m cph\u001b[39m.\u001b[39;49mfit(df3, duration_col\u001b[39m=\u001b[39;49m\u001b[39m'\u001b[39;49m\u001b[39msurvival_time\u001b[39;49m\u001b[39m'\u001b[39;49m, event_col\u001b[39m=\u001b[39;49m\u001b[39m'\u001b[39;49m\u001b[39mSurvival_status\u001b[39;49m\u001b[39m'\u001b[39;49m)\n",
      "File \u001b[0;32m~/Desktop/Data science/4/MLH/venv/lib/python3.10/site-packages/lifelines/utils/__init__.py:56\u001b[0m, in \u001b[0;36mCensoringType.right_censoring.<locals>.f\u001b[0;34m(model, *args, **kwargs)\u001b[0m\n\u001b[1;32m     53\u001b[0m \u001b[39m@wraps\u001b[39m(function)\n\u001b[1;32m     54\u001b[0m \u001b[39mdef\u001b[39;00m \u001b[39mf\u001b[39m(model, \u001b[39m*\u001b[39margs, \u001b[39m*\u001b[39m\u001b[39m*\u001b[39mkwargs):\n\u001b[1;32m     55\u001b[0m     \u001b[39mcls\u001b[39m\u001b[39m.\u001b[39mset_censoring_type(model, \u001b[39mcls\u001b[39m\u001b[39m.\u001b[39mRIGHT)\n\u001b[0;32m---> 56\u001b[0m     \u001b[39mreturn\u001b[39;00m function(model, \u001b[39m*\u001b[39;49margs, \u001b[39m*\u001b[39;49m\u001b[39m*\u001b[39;49mkwargs)\n",
      "File \u001b[0;32m~/Desktop/Data science/4/MLH/venv/lib/python3.10/site-packages/lifelines/fitters/coxph_fitter.py:290\u001b[0m, in \u001b[0;36mCoxPHFitter.fit\u001b[0;34m(self, df, duration_col, event_col, show_progress, initial_point, strata, weights_col, cluster_col, robust, batch_mode, timeline, formula, entry_col, fit_options)\u001b[0m\n\u001b[1;32m    184\u001b[0m \u001b[39m\u001b[39m\u001b[39m\"\"\"\u001b[39;00m\n\u001b[1;32m    185\u001b[0m \u001b[39mFit the Cox proportional hazard model to a right-censored dataset. Alias of `fit_right_censoring`.\u001b[39;00m\n\u001b[1;32m    186\u001b[0m \n\u001b[0;32m   (...)\u001b[0m\n\u001b[1;32m    287\u001b[0m \n\u001b[1;32m    288\u001b[0m \u001b[39m\"\"\"\u001b[39;00m\n\u001b[1;32m    289\u001b[0m \u001b[39mself\u001b[39m\u001b[39m.\u001b[39mstrata \u001b[39m=\u001b[39m utils\u001b[39m.\u001b[39m_to_list_or_singleton(utils\u001b[39m.\u001b[39mcoalesce(strata, \u001b[39mself\u001b[39m\u001b[39m.\u001b[39mstrata))\n\u001b[0;32m--> 290\u001b[0m \u001b[39mself\u001b[39m\u001b[39m.\u001b[39m_model \u001b[39m=\u001b[39m \u001b[39mself\u001b[39;49m\u001b[39m.\u001b[39;49m_fit_model(\n\u001b[1;32m    291\u001b[0m     df,\n\u001b[1;32m    292\u001b[0m     duration_col,\n\u001b[1;32m    293\u001b[0m     event_col\u001b[39m=\u001b[39;49mevent_col,\n\u001b[1;32m    294\u001b[0m     show_progress\u001b[39m=\u001b[39;49mshow_progress,\n\u001b[1;32m    295\u001b[0m     initial_point\u001b[39m=\u001b[39;49minitial_point,\n\u001b[1;32m    296\u001b[0m     strata\u001b[39m=\u001b[39;49m\u001b[39mself\u001b[39;49m\u001b[39m.\u001b[39;49mstrata,\n\u001b[1;32m    297\u001b[0m     weights_col\u001b[39m=\u001b[39;49mweights_col,\n\u001b[1;32m    298\u001b[0m     cluster_col\u001b[39m=\u001b[39;49mcluster_col,\n\u001b[1;32m    299\u001b[0m     robust\u001b[39m=\u001b[39;49mrobust,\n\u001b[1;32m    300\u001b[0m     batch_mode\u001b[39m=\u001b[39;49mbatch_mode,\n\u001b[1;32m    301\u001b[0m     timeline\u001b[39m=\u001b[39;49mtimeline,\n\u001b[1;32m    302\u001b[0m     formula\u001b[39m=\u001b[39;49mformula,\n\u001b[1;32m    303\u001b[0m     entry_col\u001b[39m=\u001b[39;49mentry_col,\n\u001b[1;32m    304\u001b[0m     fit_options\u001b[39m=\u001b[39;49mfit_options,\n\u001b[1;32m    305\u001b[0m )\n\u001b[1;32m    306\u001b[0m \u001b[39mreturn\u001b[39;00m \u001b[39mself\u001b[39m\n",
      "File \u001b[0;32m~/Desktop/Data science/4/MLH/venv/lib/python3.10/site-packages/lifelines/fitters/coxph_fitter.py:610\u001b[0m, in \u001b[0;36mCoxPHFitter._fit_model\u001b[0;34m(self, *args, **kwargs)\u001b[0m\n\u001b[1;32m    608\u001b[0m \u001b[39mdef\u001b[39;00m \u001b[39m_fit_model\u001b[39m(\u001b[39mself\u001b[39m, \u001b[39m*\u001b[39margs, \u001b[39m*\u001b[39m\u001b[39m*\u001b[39mkwargs):\n\u001b[1;32m    609\u001b[0m     \u001b[39mif\u001b[39;00m \u001b[39mself\u001b[39m\u001b[39m.\u001b[39mbaseline_estimation_method \u001b[39m==\u001b[39m \u001b[39m\"\u001b[39m\u001b[39mbreslow\u001b[39m\u001b[39m\"\u001b[39m:\n\u001b[0;32m--> 610\u001b[0m         \u001b[39mreturn\u001b[39;00m \u001b[39mself\u001b[39;49m\u001b[39m.\u001b[39;49m_fit_model_breslow(\u001b[39m*\u001b[39;49margs, \u001b[39m*\u001b[39;49m\u001b[39m*\u001b[39;49mkwargs)\n\u001b[1;32m    611\u001b[0m     \u001b[39melif\u001b[39;00m \u001b[39mself\u001b[39m\u001b[39m.\u001b[39mbaseline_estimation_method \u001b[39m==\u001b[39m \u001b[39m\"\u001b[39m\u001b[39mspline\u001b[39m\u001b[39m\"\u001b[39m:\n\u001b[1;32m    612\u001b[0m         \u001b[39mreturn\u001b[39;00m \u001b[39mself\u001b[39m\u001b[39m.\u001b[39m_fit_model_spline(\u001b[39m*\u001b[39margs, \u001b[39m*\u001b[39m\u001b[39m*\u001b[39mkwargs)\n",
      "File \u001b[0;32m~/Desktop/Data science/4/MLH/venv/lib/python3.10/site-packages/lifelines/fitters/coxph_fitter.py:623\u001b[0m, in \u001b[0;36mCoxPHFitter._fit_model_breslow\u001b[0;34m(self, *args, **kwargs)\u001b[0m\n\u001b[1;32m    619\u001b[0m model \u001b[39m=\u001b[39m SemiParametricPHFitter(\n\u001b[1;32m    620\u001b[0m     penalizer\u001b[39m=\u001b[39m\u001b[39mself\u001b[39m\u001b[39m.\u001b[39mpenalizer, l1_ratio\u001b[39m=\u001b[39m\u001b[39mself\u001b[39m\u001b[39m.\u001b[39ml1_ratio, strata\u001b[39m=\u001b[39m\u001b[39mself\u001b[39m\u001b[39m.\u001b[39mstrata, alpha\u001b[39m=\u001b[39m\u001b[39mself\u001b[39m\u001b[39m.\u001b[39malpha, label\u001b[39m=\u001b[39m\u001b[39mself\u001b[39m\u001b[39m.\u001b[39m_label\n\u001b[1;32m    621\u001b[0m )\n\u001b[1;32m    622\u001b[0m \u001b[39mif\u001b[39;00m utils\u001b[39m.\u001b[39mCensoringType\u001b[39m.\u001b[39mis_right_censoring(\u001b[39mself\u001b[39m):\n\u001b[0;32m--> 623\u001b[0m     model\u001b[39m.\u001b[39;49mfit(\u001b[39m*\u001b[39;49margs, \u001b[39m*\u001b[39;49m\u001b[39m*\u001b[39;49mkwargs)\n\u001b[1;32m    624\u001b[0m     \u001b[39mreturn\u001b[39;00m model\n\u001b[1;32m    625\u001b[0m \u001b[39melse\u001b[39;00m:\n",
      "File \u001b[0;32m~/Desktop/Data science/4/MLH/venv/lib/python3.10/site-packages/lifelines/utils/__init__.py:56\u001b[0m, in \u001b[0;36mCensoringType.right_censoring.<locals>.f\u001b[0;34m(model, *args, **kwargs)\u001b[0m\n\u001b[1;32m     53\u001b[0m \u001b[39m@wraps\u001b[39m(function)\n\u001b[1;32m     54\u001b[0m \u001b[39mdef\u001b[39;00m \u001b[39mf\u001b[39m(model, \u001b[39m*\u001b[39margs, \u001b[39m*\u001b[39m\u001b[39m*\u001b[39mkwargs):\n\u001b[1;32m     55\u001b[0m     \u001b[39mcls\u001b[39m\u001b[39m.\u001b[39mset_censoring_type(model, \u001b[39mcls\u001b[39m\u001b[39m.\u001b[39mRIGHT)\n\u001b[0;32m---> 56\u001b[0m     \u001b[39mreturn\u001b[39;00m function(model, \u001b[39m*\u001b[39;49margs, \u001b[39m*\u001b[39;49m\u001b[39m*\u001b[39;49mkwargs)\n",
      "File \u001b[0;32m~/Desktop/Data science/4/MLH/venv/lib/python3.10/site-packages/lifelines/fitters/coxph_fitter.py:1252\u001b[0m, in \u001b[0;36mSemiParametricPHFitter.fit\u001b[0;34m(self, df, duration_col, event_col, show_progress, initial_point, strata, weights_col, cluster_col, robust, batch_mode, timeline, formula, entry_col, fit_options)\u001b[0m\n\u001b[1;32m   1247\u001b[0m \u001b[39m# this is surprisingly faster to do...\u001b[39;00m\n\u001b[1;32m   1248\u001b[0m X_norm \u001b[39m=\u001b[39m pd\u001b[39m.\u001b[39mDataFrame(\n\u001b[1;32m   1249\u001b[0m     utils\u001b[39m.\u001b[39mnormalize(X\u001b[39m.\u001b[39mvalues, \u001b[39mself\u001b[39m\u001b[39m.\u001b[39m_norm_mean\u001b[39m.\u001b[39mvalues, \u001b[39mself\u001b[39m\u001b[39m.\u001b[39m_norm_std\u001b[39m.\u001b[39mvalues), index\u001b[39m=\u001b[39mX\u001b[39m.\u001b[39mindex, columns\u001b[39m=\u001b[39mX\u001b[39m.\u001b[39mcolumns\n\u001b[1;32m   1250\u001b[0m )\n\u001b[0;32m-> 1252\u001b[0m params_, ll_, variance_matrix_, baseline_hazard_, baseline_cumulative_hazard_, model \u001b[39m=\u001b[39m \u001b[39mself\u001b[39;49m\u001b[39m.\u001b[39;49m_fit_model(\n\u001b[1;32m   1253\u001b[0m     X_norm,\n\u001b[1;32m   1254\u001b[0m     T,\n\u001b[1;32m   1255\u001b[0m     E,\n\u001b[1;32m   1256\u001b[0m     weights\u001b[39m=\u001b[39;49mweights,\n\u001b[1;32m   1257\u001b[0m     entries\u001b[39m=\u001b[39;49mentries,\n\u001b[1;32m   1258\u001b[0m     fit_options\u001b[39m=\u001b[39;49mutils\u001b[39m.\u001b[39;49mcoalesce(fit_options, \u001b[39mdict\u001b[39;49m()),\n\u001b[1;32m   1259\u001b[0m     initial_point\u001b[39m=\u001b[39;49minitial_point,\n\u001b[1;32m   1260\u001b[0m     show_progress\u001b[39m=\u001b[39;49mshow_progress,\n\u001b[1;32m   1261\u001b[0m )\n\u001b[1;32m   1263\u001b[0m \u001b[39mself\u001b[39m\u001b[39m.\u001b[39mlog_likelihood_ \u001b[39m=\u001b[39m ll_\n\u001b[1;32m   1264\u001b[0m \u001b[39mself\u001b[39m\u001b[39m.\u001b[39mmodel \u001b[39m=\u001b[39m model\n",
      "File \u001b[0;32m~/Desktop/Data science/4/MLH/venv/lib/python3.10/site-packages/lifelines/fitters/coxph_fitter.py:1380\u001b[0m, in \u001b[0;36mSemiParametricPHFitter._fit_model\u001b[0;34m(self, X, T, E, weights, entries, fit_options, initial_point, show_progress)\u001b[0m\n\u001b[1;32m   1369\u001b[0m \u001b[39mdef\u001b[39;00m \u001b[39m_fit_model\u001b[39m(\n\u001b[1;32m   1370\u001b[0m     \u001b[39mself\u001b[39m,\n\u001b[1;32m   1371\u001b[0m     X: DataFrame,\n\u001b[0;32m   (...)\u001b[0m\n\u001b[1;32m   1378\u001b[0m     show_progress: \u001b[39mbool\u001b[39m \u001b[39m=\u001b[39m \u001b[39mTrue\u001b[39;00m,\n\u001b[1;32m   1379\u001b[0m ):\n\u001b[0;32m-> 1380\u001b[0m     beta_, ll_, hessian_ \u001b[39m=\u001b[39m \u001b[39mself\u001b[39;49m\u001b[39m.\u001b[39;49m_newton_raphson_for_efron_model(\n\u001b[1;32m   1381\u001b[0m         X,\n\u001b[1;32m   1382\u001b[0m         T,\n\u001b[1;32m   1383\u001b[0m         E,\n\u001b[1;32m   1384\u001b[0m         weights,\n\u001b[1;32m   1385\u001b[0m         entries,\n\u001b[1;32m   1386\u001b[0m         initial_point\u001b[39m=\u001b[39;49minitial_point,\n\u001b[1;32m   1387\u001b[0m         show_progress\u001b[39m=\u001b[39;49mshow_progress,\n\u001b[1;32m   1388\u001b[0m         \u001b[39m*\u001b[39;49m\u001b[39m*\u001b[39;49mfit_options,\n\u001b[1;32m   1389\u001b[0m     )\n\u001b[1;32m   1391\u001b[0m     \u001b[39m# compute the baseline hazard here.\u001b[39;00m\n\u001b[1;32m   1392\u001b[0m     predicted_partial_hazards_ \u001b[39m=\u001b[39m (\n\u001b[1;32m   1393\u001b[0m         pd\u001b[39m.\u001b[39mDataFrame(np\u001b[39m.\u001b[39mexp(dot(X, beta_)), columns\u001b[39m=\u001b[39m[\u001b[39m\"\u001b[39m\u001b[39mP\u001b[39m\u001b[39m\"\u001b[39m])\u001b[39m.\u001b[39massign(T\u001b[39m=\u001b[39mT\u001b[39m.\u001b[39mvalues, E\u001b[39m=\u001b[39mE\u001b[39m.\u001b[39mvalues, W\u001b[39m=\u001b[39mweights\u001b[39m.\u001b[39mvalues)\u001b[39m.\u001b[39mset_index(X\u001b[39m.\u001b[39mindex)\n\u001b[1;32m   1394\u001b[0m     )\n",
      "File \u001b[0;32m~/Desktop/Data science/4/MLH/venv/lib/python3.10/site-packages/lifelines/fitters/coxph_fitter.py:1553\u001b[0m, in \u001b[0;36mSemiParametricPHFitter._newton_raphson_for_efron_model\u001b[0;34m(self, X, T, E, weights, entries, initial_point, show_progress, step_size, precision, r_precision, max_steps)\u001b[0m\n\u001b[1;32m   1551\u001b[0m \u001b[39mif\u001b[39;00m np\u001b[39m.\u001b[39many(np\u001b[39m.\u001b[39misnan(delta)):\n\u001b[1;32m   1552\u001b[0m     \u001b[39mself\u001b[39m\u001b[39m.\u001b[39m_check_values_post_fitting(X, T, E, weights)\n\u001b[0;32m-> 1553\u001b[0m     \u001b[39mraise\u001b[39;00m exceptions\u001b[39m.\u001b[39mConvergenceError(\n\u001b[1;32m   1554\u001b[0m \u001b[39m        \u001b[39m\u001b[39m\"\"\"delta contains nan value(s). Convergence halted. {0}\"\"\"\u001b[39;00m\u001b[39m.\u001b[39mformat(CONVERGENCE_DOCS)\n\u001b[1;32m   1555\u001b[0m     )\n\u001b[1;32m   1557\u001b[0m \u001b[39m# Save these as pending result\u001b[39;00m\n\u001b[1;32m   1558\u001b[0m hessian, gradient \u001b[39m=\u001b[39m h, g\n",
      "\u001b[0;31mConvergenceError\u001b[0m: delta contains nan value(s). Convergence halted. Please see the following tips in the lifelines documentation: https://lifelines.readthedocs.io/en/latest/Examples.html#problems-with-convergence-in-the-cox-proportional-hazard-model"
     ]
    }
   ],
   "source": [
    "from lifelines import CoxPHFitter\n",
    "\n",
    "df3 = df2.iloc[:, df2.columns != 'Disease']\n",
    "cph = CoxPHFitter()\n",
    "cph.fit(rdata, duration_col='survival_time', event_col='Survival_status')"
   ]
  }
 ],
 "metadata": {
  "kernelspec": {
   "display_name": "venv",
   "language": "python",
   "name": "python3"
  },
  "language_info": {
   "codemirror_mode": {
    "name": "ipython",
    "version": 3
   },
   "file_extension": ".py",
   "mimetype": "text/x-python",
   "name": "python",
   "nbconvert_exporter": "python",
   "pygments_lexer": "ipython3",
   "version": "3.10.12"
  }
 },
 "nbformat": 4,
 "nbformat_minor": 2
}
